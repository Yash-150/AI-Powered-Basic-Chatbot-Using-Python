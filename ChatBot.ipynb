{
 "cells": [
  {
   "cell_type": "markdown",
   "id": "ea324e8e-e965-4f8f-817d-a08a136b0fce",
   "metadata": {},
   "source": [
    " Install and Import Required Libraries"
   ]
  },
  {
   "cell_type": "code",
   "execution_count": 1,
   "id": "9489adf8-203f-4591-837a-981b0e229b4f",
   "metadata": {},
   "outputs": [
    {
     "name": "stdout",
     "output_type": "stream",
     "text": [
      "Downloading NLTK data...\n",
      "Download complete!\n"
     ]
    },
    {
     "name": "stderr",
     "output_type": "stream",
     "text": [
      "[nltk_data] Downloading package punkt to\n",
      "[nltk_data]     C:\\Users\\geeky\\AppData\\Roaming\\nltk_data...\n",
      "[nltk_data]   Package punkt is already up-to-date!\n",
      "[nltk_data] Downloading package wordnet to\n",
      "[nltk_data]     C:\\Users\\geeky\\AppData\\Roaming\\nltk_data...\n",
      "[nltk_data]   Package wordnet is already up-to-date!\n",
      "[nltk_data] Downloading package omw-1.4 to\n",
      "[nltk_data]     C:\\Users\\geeky\\AppData\\Roaming\\nltk_data...\n",
      "[nltk_data]   Package omw-1.4 is already up-to-date!\n"
     ]
    }
   ],
   "source": [
    "import numpy as np\n",
    "import random\n",
    "import json\n",
    "import string\n",
    "from sklearn.feature_extraction.text import TfidfVectorizer\n",
    "from sklearn.metrics.pairwise import cosine_similarity\n",
    "import nltk\n",
    "from nltk.stem import WordNetLemmatizer\n",
    "\n",
    "# Download required NLTK data\n",
    "try:\n",
    "    nltk.data.find('tokenizers/punkt')\n",
    "    nltk.data.find('corpora/wordnet')\n",
    "    nltk.data.find('corpora/omw-1.4')\n",
    "except LookupError:\n",
    "    print(\"Downloading NLTK data...\")\n",
    "    nltk.download('punkt')\n",
    "    nltk.download('wordnet')\n",
    "    nltk.download('omw-1.4')\n",
    "    print(\"Download complete!\")\n",
    "\n",
    "lemmatizer = WordNetLemmatizer()"
   ]
  },
  {
   "cell_type": "markdown",
   "id": "9283f8f1-63c9-42f9-bfcd-f719e49fad16",
   "metadata": {},
   "source": [
    "Knowledge Base (Training Data)"
   ]
  },
  {
   "cell_type": "code",
   "execution_count": 2,
   "id": "42b2c4ae-59b5-44eb-88ad-fee2ba31ee5a",
   "metadata": {},
   "outputs": [],
   "source": [
    "knowledge_base = {\n",
    "    \"intents\": [\n",
    "        {\n",
    "            \"tag\": \"greeting\",\n",
    "            \"patterns\": [\"Hi\", \"Hello\", \"Hey\", \"How are you?\", \"What's up?\"],\n",
    "            \"responses\": [\"Hello! How can I help you today?\", \"Hi there! What can I do for you?\", \"Greetings! How may I assist you?\"]\n",
    "        },\n",
    "        {\n",
    "            \"tag\": \"goodbye\",\n",
    "            \"patterns\": [\"Bye\", \"See you later\", \"Goodbye\", \"Take care\"],\n",
    "            \"responses\": [\"Goodbye! Have a great day!\", \"See you later!\", \"Until next time!\"]\n",
    "        },\n",
    "        {\n",
    "            \"tag\": \"thanks\",\n",
    "            \"patterns\": [\"Thanks\", \"Thank you\", \"That's helpful\", \"Appreciate it\"],\n",
    "            \"responses\": [\"Happy to help!\", \"Anytime!\", \"My pleasure!\"]\n",
    "        },\n",
    "        {\n",
    "            \"tag\": \"identity\",\n",
    "            \"patterns\": [\"What is your name?\", \"Who are you?\", \"Tell me about yourself\"],\n",
    "            \"responses\": [\n",
    "                \"I'm ChatBot, your AI assistant for this project.\",\n",
    "                \"You can call me CB! I'm here to help with your questions.\",\n",
    "                \"I'm an AI chatbot created for this internship project.\"\n",
    "            ]\n",
    "        },\n",
    "        {\n",
    "            \"tag\": \"capabilities\",\n",
    "            \"patterns\": [\"What can you do?\", \"How can you help me?\", \"What are your functions?\"],\n",
    "            \"responses\": [\n",
    "                \"I can answer questions, help with documentation, and assist with school projects.\",\n",
    "                \"My capabilities include information lookup, basic conversation, and project guidance.\",\n",
    "                \"I can help you prepare documents, brainstorm ideas, and answer your questions.\"\n",
    "            ]\n",
    "        },\n",
    "        {\n",
    "            \"tag\": \"project_help\",\n",
    "            \"patterns\": [\n",
    "                \"Can you help me with my school project?\",\n",
    "                \"Help me prepare a document\",\n",
    "                \"I need project assistance\",\n",
    "                \"Can you draft something for my assignment?\"\n",
    "            ],\n",
    "            \"responses\": [\n",
    "                \"Sure! What topic is your project about? I can help with research and structure.\",\n",
    "                \"I'd be happy to help with your school project. What specific help do you need?\",\n",
    "                \"For project documents, I can suggest outlines and key points. What's your subject?\"\n",
    "            ]\n",
    "        },\n",
    "        {\n",
    "            \"tag\": \"document_types\",\n",
    "            \"patterns\": [\n",
    "                \"What documents can you help with?\",\n",
    "                \"Types of documents you know\",\n",
    "                \"Can you make reports/presentations?\"\n",
    "            ],\n",
    "            \"responses\": [\n",
    "                \"I can assist with reports, essays, presentations, and basic research papers.\",\n",
    "                \"I can help structure documents like project reports, literature reviews, and simple presentations.\",\n",
    "                \"My document support includes outlines, structure suggestions, and content ideas for school projects.\"\n",
    "            ]\n",
    "        },\n",
    "        {\n",
    "            \"tag\": \"fallback\",\n",
    "            \"patterns\": [],\n",
    "            \"responses\": [\n",
    "                \"I'm not sure I understand. Could you rephrase that?\",\n",
    "                \"I don't have an answer for that yet. Try asking something else.\",\n",
    "                \"I'm still learning. Could you ask me about project help or my capabilities?\"\n",
    "            ]\n",
    "        }\n",
    "    ]\n",
    "}\n",
    "\n",
    "# Save knowledge base\n",
    "with open('knowledge_base.json', 'w') as file:\n",
    "    json.dump(knowledge_base, file)"
   ]
  },
  {
   "cell_type": "markdown",
   "id": "b966dc10-79fe-4760-ba39-1f799b728fee",
   "metadata": {},
   "source": [
    "Data Preprocessing (Text Processing)"
   ]
  },
  {
   "cell_type": "code",
   "execution_count": 4,
   "id": "c0661b75-343c-44a2-8a12-b8dc8b8e1fdc",
   "metadata": {},
   "outputs": [],
   "source": [
    "def preprocess_text(text):\n",
    "    try:\n",
    "        # Convert to lowercase and remove punctuation\n",
    "        text = text.lower().translate(str.maketrans('', '', string.punctuation))\n",
    "        # Tokenize and lemmatize\n",
    "        tokens = nltk.word_tokenize(text)\n",
    "        tokens = [lemmatizer.lemmatize(token) for token in tokens]\n",
    "        return ' '.join(tokens)\n",
    "    except Exception as e:\n",
    "        print(f\"Error in preprocessing: {e}\")\n",
    "        return \"\"\n"
   ]
  },
  {
   "cell_type": "markdown",
   "id": "0fcbd716-dff2-4fb2-80a9-8241fed9d9ce",
   "metadata": {},
   "source": [
    "Model Training and Preparing Data"
   ]
  },
  {
   "cell_type": "code",
   "execution_count": 6,
   "id": "5a3f80cc-7939-4001-9c44-c57fb9492e8a",
   "metadata": {},
   "outputs": [],
   "source": [
    "tags = []\n",
    "patterns = []\n",
    "responses = {}\n",
    "\n",
    "for intent in knowledge_base['intents']:\n",
    "    tag = intent['tag']\n",
    "    tags.append(tag)\n",
    "    responses[tag] = intent['responses']\n",
    "    for pattern in intent['patterns']:\n",
    "        patterns.append((preprocess_text(pattern), tag))\n",
    "\n",
    "X_train = [pattern[0] for pattern in patterns]\n",
    "y_train = [pattern[1] for pattern in patterns]\n",
    "\n",
    "# Create TF-IDF vectorizer\n",
    "vectorizer = TfidfVectorizer()\n",
    "X_train_vectorized = vectorizer.fit_transform(X_train)"
   ]
  },
  {
   "cell_type": "raw",
   "id": "3ce60a4a-a012-4874-a48e-fc8c193d4957",
   "metadata": {},
   "source": [
    "Response Generation"
   ]
  },
  {
   "cell_type": "code",
   "execution_count": 8,
   "id": "687e7ac0-6048-4be9-a7a8-219a30aefbe3",
   "metadata": {},
   "outputs": [],
   "source": [
    "def get_response(user_input):\n",
    "    processed_input = preprocess_text(user_input)\n",
    "    \n",
    "    if not processed_input:\n",
    "        return random.choice(responses['fallback'])\n",
    "    \n",
    "    input_vector = vectorizer.transform([processed_input])\n",
    "    similarities = cosine_similarity(input_vector, X_train_vectorized)\n",
    "    \n",
    "    if len(similarities[0]) == 0:\n",
    "        return random.choice(responses['fallback'])\n",
    "    \n",
    "    most_similar_idx = np.argmax(similarities)\n",
    "    similarity_score = similarities[0][most_similar_idx]\n",
    "    \n",
    "    # Threshold for responding\n",
    "    if similarity_score > 0.5:\n",
    "        predicted_tag = y_train[most_similar_idx]\n",
    "        return random.choice(responses[predicted_tag])\n",
    "    else:\n",
    "        return random.choice(responses['fallback'])"
   ]
  },
  {
   "cell_type": "markdown",
   "id": "268054cc-962a-4fea-b38b-d8d9538596cf",
   "metadata": {},
   "source": [
    "Chat Interface"
   ]
  },
  {
   "cell_type": "code",
   "execution_count": 10,
   "id": "2d383250-4537-469a-901a-2f340c4a2797",
   "metadata": {},
   "outputs": [],
   "source": [
    "def chat():\n",
    "    print(\"\\nChatBot: Hello! I'm your AI assistant. Type 'quit' to exit.\")\n",
    "    print(\"You can ask me about:\\n- My capabilities\\n- School project help\\n- Document preparation\\n\")\n",
    "    \n",
    "    while True:\n",
    "        user_input = input(\"You: \")\n",
    "        \n",
    "        if user_input.lower() == 'quit':\n",
    "            print(\"ChatBot: Goodbye! Come back if you need more help.\")\n",
    "            break\n",
    "            \n",
    "        response = get_response(user_input)\n",
    "        print(\"ChatBot:\", response)"
   ]
  },
  {
   "cell_type": "markdown",
   "id": "2e4fdd4f-b068-489f-a230-c980fdb28beb",
   "metadata": {},
   "source": [
    "Test Prompts"
   ]
  },
  {
   "cell_type": "code",
   "execution_count": 11,
   "id": "ce664e32-f248-44b5-998f-44e134683c88",
   "metadata": {},
   "outputs": [
    {
     "name": "stdout",
     "output_type": "stream",
     "text": [
      "\n",
      "=== TESTING CHATBOT ===\n",
      "\n",
      "You: Hello!\n",
      "ChatBot: Greetings! How may I assist you?\n",
      "\n",
      "You: What is your name?\n",
      "ChatBot: I'm an AI chatbot created for this internship project.\n",
      "\n",
      "You: What can you do for me?\n",
      "ChatBot: My capabilities include information lookup, basic conversation, and project guidance.\n",
      "\n",
      "You: Can you help me with my school project?\n",
      "ChatBot: Sure! What topic is your project about? I can help with research and structure.\n",
      "\n",
      "You: I need to prepare a science project report\n",
      "ChatBot: For project documents, I can suggest outlines and key points. What's your subject?\n",
      "\n",
      "You: What types of documents can you help with?\n",
      "ChatBot: I can help structure documents like project reports, literature reviews, and simple presentations.\n",
      "\n",
      "You: Can you make a PowerPoint presentation?\n",
      "ChatBot: My document support includes outlines, structure suggestions, and content ideas for school projects.\n",
      "\n",
      "You: Thank you for your help\n",
      "ChatBot: My pleasure!\n",
      "\n",
      "You: Goodbye\n",
      "ChatBot: See you later!\n"
     ]
    }
   ],
   "source": [
    "test_prompts = [\n",
    "    \"Hello!\",\n",
    "    \"What is your name?\",\n",
    "    \"What can you do for me?\",\n",
    "    \"Can you help me with my school project?\",\n",
    "    \"I need to prepare a science project report\",\n",
    "    \"What types of documents can you help with?\",\n",
    "    \"Can you make a PowerPoint presentation?\",\n",
    "    \"Thank you for your help\",\n",
    "    \"Goodbye\"\n",
    "]\n",
    "\n",
    "print(\"\\n=== TESTING CHATBOT ===\")\n",
    "for prompt in test_prompts:\n",
    "    print(f\"\\nYou: {prompt}\")\n",
    "    print(f\"ChatBot: {get_response(prompt)}\")\n"
   ]
  },
  {
   "cell_type": "code",
   "execution_count": null,
   "id": "21028d46-2e3a-4294-bd9b-163ed9bde32e",
   "metadata": {},
   "outputs": [],
   "source": []
  }
 ],
 "metadata": {
  "kernelspec": {
   "display_name": "Python 3 (ipykernel)",
   "language": "python",
   "name": "python3"
  },
  "language_info": {
   "codemirror_mode": {
    "name": "ipython",
    "version": 3
   },
   "file_extension": ".py",
   "mimetype": "text/x-python",
   "name": "python",
   "nbconvert_exporter": "python",
   "pygments_lexer": "ipython3",
   "version": "3.12.7"
  }
 },
 "nbformat": 4,
 "nbformat_minor": 5
}
